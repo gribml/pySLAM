{
 "metadata": {
  "name": "inspection"
 },
 "nbformat": 3,
 "nbformat_minor": 0,
 "worksheets": [
  {
   "cells": [
    {
     "cell_type": "code",
     "collapsed": false,
     "input": [
      "%load_ext autoreload\n",
      "%autoreload 2\n",
      "import numpy as np\n",
      "import sys\n",
      "sys.path.append('../src')\n",
      "import balib\n",
      "import badata\n",
      "import ba2D\n",
      "from pyop2 import op2"
     ],
     "language": "python",
     "metadata": {},
     "outputs": [],
     "prompt_number": 163
    },
    {
     "cell_type": "code",
     "collapsed": false,
     "input": [
      "v, e = badata.quickLoad(badata.MANHATTAN)"
     ],
     "language": "python",
     "metadata": {},
     "outputs": [],
     "prompt_number": 137
    },
    {
     "cell_type": "code",
     "collapsed": false,
     "input": [
      "errors = np.load('../output/error0.npy')\n",
      "jacobians = np.load('../output/jacobians0.npy')\n",
      "rhs = np.load('../output/rhs0.npy')\n",
      "x = np.load('../output/x0.npy')\n",
      "sse = np.load('../output/sse0.npy')"
     ],
     "language": "python",
     "metadata": {},
     "outputs": [],
     "prompt_number": 113
    },
    {
     "cell_type": "code",
     "collapsed": false,
     "input": [
      "idx = 0\n",
      "print x[idx,:]\n",
      "v.ix[idx]"
     ],
     "language": "python",
     "metadata": {},
     "outputs": [
      {
       "output_type": "stream",
       "stream": "stdout",
       "text": [
        "[ 0.  0.  0.]\n"
       ]
      },
      {
       "output_type": "pyout",
       "prompt_number": 122,
       "text": [
        "label    SE2\n",
        "index      0\n",
        "dim1       0\n",
        "dim2       0\n",
        "dim3       0\n",
        "Name: 0, dtype: object"
       ]
      }
     ],
     "prompt_number": 122
    },
    {
     "cell_type": "code",
     "collapsed": false,
     "input": [
      "print v.head()\n",
      "print e.iloc[:, 1:6].head()"
     ],
     "language": "python",
     "metadata": {},
     "outputs": [
      {
       "output_type": "stream",
       "stream": "stdout",
       "text": [
        "  label  index     dim1      dim2      dim3\n",
        "0   SE2      0  0.00000  0.000000  0.000000\n",
        "1   SE2      1  1.03039  0.011350 -0.012958\n",
        "2   SE2      2  2.04345 -0.060422 -0.026183\n",
        "3   SE2      3  3.07055 -0.094779 -0.021350\n",
        "4   SE2      4  3.07998  0.909609  1.545440\n",
        "      from_v  to_v     meas1     meas2     meas3\n",
        "3500       0     1  1.030390  0.011350 -0.012958\n",
        "3501       1     2  1.013900 -0.058639 -0.013225\n",
        "3502       2     3  1.027650 -0.007456  0.004833\n",
        "3503       3     4 -0.012016  1.004360  1.566790\n",
        "3504       4     5  1.016030  0.014565 -0.016304"
       ]
      },
      {
       "output_type": "stream",
       "stream": "stdout",
       "text": [
        "\n"
       ]
      }
     ],
     "prompt_number": 123
    },
    {
     "cell_type": "code",
     "collapsed": false,
     "input": [
      "def normalizeAngle(theta):\n",
      "    if theta > -np.pi and theta < np.pi:\n",
      "        return theta\n",
      "    else:\n",
      "        twopi = 2*np.pi\n",
      "        mult = np.floor(theta / twopi)\n",
      "        theta -= mult * twopi\n",
      "        if theta >= np.pi:\n",
      "            theta -= twopi\n",
      "        elif theta < -np.pi:\n",
      "            theta += twopi\n",
      "    return theta\n",
      "\n",
      "def error(v1, v2):\n",
      "    x1, y1, theta1 = v1[0], v1[1], v1[2]\n",
      "    x2, y2, theta2 = v2[0], v2[1], v2[2]\n",
      "    dx = (x2 - x1)*np.cos(theta1) + (y2 - y1)*np.sin(theta1)\n",
      "    dy = -(x2 - x1)*np.sin(theta1) + (y2 - y1)*np.cos(theta1)\n",
      "    dtheta = normalizeAngle(theta1 - theta2)\n",
      "    return [dx, dy, dtheta]\n",
      "\n",
      "for i in range(5):\n",
      "    row = e.iloc[i,:]\n",
      "    p1 = v.iloc[row[1],2:]\n",
      "    p2 = v.iloc[row[2],2:]\n",
      "    print 'v1: %f %f %f v2: %f %f %f' % (p1[0], p1[1], p1[2], p2[0], p2[1], p2[2])\n",
      "    chng = error(p1, p2)\n",
      "    meas = row[3:6]\n",
      "    print chng[2], meas[2]\n",
      "    print normalizeAngle(chng[2] - meas[2])\n",
      "    disc = error(meas, error(p1, p2))\n",
      "    print 'change: %f %f %f; meas: %f %f %f' % (chng[0], chng[1], chng[2], meas[0], meas[1], meas[2])\n",
      "    print 'error: %f %f %f vs %f %f %f' % (disc[0], disc[1], disc[2], errors[i,0], errors[i,1], errors[i,2])\n",
      "    print '-'*80"
     ],
     "language": "python",
     "metadata": {},
     "outputs": [
      {
       "output_type": "stream",
       "stream": "stdout",
       "text": [
        "v1: 0.000000 0.000000 0.000000 v2: 1.030390 0.011350 -0.012958\n",
        "0.0129577 -0.0129577\n",
        "0.0259154\n",
        "change: 1.030390 0.011350 0.012958; meas: 1.030390 0.011350 -0.012958\n",
        "error: 0.000000 0.000000 -0.025915 vs 0.000000 0.000000 0.000000\n",
        "--------------------------------------------------------------------------------\n",
        "v1: 1.030390 0.011350 -0.012958 v2: 2.043450 -0.060422 -0.026183\n",
        "0.013225 -0.013225\n",
        "0.02645\n",
        "change: 1.013905 -0.058639 0.013225; meas: 1.013900 -0.058639 -0.013225\n",
        "error: 0.000005 0.000000 -0.026450 vs -0.000005 -0.000000 0.000000\n",
        "--------------------------------------------------------------------------------\n",
        "v1: 2.043450 -0.060422 -0.026183 v2: 3.070550 -0.094779 -0.021350\n",
        "-0.0048328 0.00483283\n",
        "-0.00966563\n",
        "change: 1.027647 -0.007456 -0.004833; meas: 1.027650 -0.007456 0.004833\n",
        "error: -0.000003 -0.000000 0.009666 vs 0.000003 0.000000 0.000000\n",
        "--------------------------------------------------------------------------------\n",
        "v1: 3.070550 -0.094779 -0.021350 v2: 3.079980 0.909609 1.545440\n",
        "-1.5667899 1.56679\n",
        "-3.1335799\n",
        "change: -0.012014 1.004360 -1.566790; meas: -0.012016 1.004360 1.566790\n",
        "error: 0.000000 -0.000001 3.133580 vs -0.000000 0.000001 0.000000\n",
        "--------------------------------------------------------------------------------\n",
        "v1: 3.079980 0.909609 1.545440 v2: 3.091180 1.925680 1.529140\n",
        "0.0163 -0.0163041\n",
        "0.0326041\n",
        "change: 1.016028 0.014565 0.016300; meas: 1.016030 0.014565 -0.016304\n",
        "error: -0.000002 -0.000000 -0.032604 vs 0.000002 0.000000 -0.000004\n",
        "--------------------------------------------------------------------------------\n"
       ]
      }
     ],
     "prompt_number": 183
    },
    {
     "cell_type": "code",
     "collapsed": false,
     "input": [],
     "language": "python",
     "metadata": {},
     "outputs": [],
     "prompt_number": 126
    },
    {
     "cell_type": "code",
     "collapsed": false,
     "input": [],
     "language": "python",
     "metadata": {},
     "outputs": []
    }
   ],
   "metadata": {}
  }
 ]
}